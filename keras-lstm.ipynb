{
 "cells": [
  {
   "cell_type": "code",
   "execution_count": 3,
   "metadata": {
    "collapsed": true
   },
   "outputs": [],
   "source": [
    "import numpy as np\n",
    "import pandas as pd\n",
    "\n",
    "# データの取り込み\n",
    "\n",
    "# import data\n",
    "data = pd.read_csv(r\"./gender-classifier-DFE-791531.csv\",encoding='latin1')\n",
    "\n",
    "# concat gender and description\n",
    "data = pd.concat([data.gender,data.description,data.text],axis=1)\n",
    "\n",
    "#drop nan values inplace\n",
    "data.dropna(inplace=True,axis=0)\n",
    "data = data.reset_index(drop=True)"
   ]
  },
  {
   "cell_type": "code",
   "execution_count": 4,
   "metadata": {
    "collapsed": true
   },
   "outputs": [],
   "source": [
    "import re\n",
    "\n",
    "def remove_urls(text):\n",
    "    \n",
    "    urls = [g[0] for g in re.findall(r'((https?|ftp)(:\\/\\/[-_\\.!~*\\'()a-zA-Z0-9;\\/?:\\@&=\\+\\$,%#]+))', text)]\n",
    "    \n",
    "    for url in sorted(urls,key=lambda x:-len(x)):\n",
    "    \n",
    "        text = text.replace(url,'')\n",
    "        \n",
    "    return text"
   ]
  },
  {
   "cell_type": "code",
   "execution_count": 5,
   "metadata": {
    "collapsed": true
   },
   "outputs": [],
   "source": [
    "data.gender.loc[data.gender == 'male']   = 0\n",
    "data.gender.loc[data.gender == 'female'] = 1\n",
    "data.gender.loc[~(data.gender == 0) & ~(data.gender == 1)] = np.nan\n",
    "\n",
    "data.description = data.description.map(remove_urls)\n",
    "data.text = data.text.map(remove_urls)\n",
    "\n",
    "data.dropna(inplace=True,axis=0)\n",
    "data = data.reset_index(drop=True)\n",
    "data.gender = data.gender.astype(int)"
   ]
  },
  {
   "cell_type": "code",
   "execution_count": 25,
   "metadata": {
    "collapsed": true
   },
   "outputs": [],
   "source": [
    "# preprocessing\n",
    "from nltk.tokenize import RegexpTokenizer\n",
    "from nltk.corpus import stopwords \n",
    "from collections import defaultdict,Counter\n",
    "\n",
    "docs = []\n",
    "\n",
    "w2i  = defaultdict(lambda : len(w2i))\n",
    "\n",
    "mystopwords = stopwords.words('english') + [\"i'm\",\"rt\"]\n",
    "\n",
    "tokenizer = RegexpTokenizer(\"(?u)(?=[a-zA-Z])\\\\b[\\w']{2,}\\\\b\")\n",
    "\n",
    "'''\n",
    "for text in data.description:\n",
    "\n",
    "    tokens = tokenizer.tokenize(text)\n",
    "    docs.append([w2i[w.lower()] for w in tokens])\n",
    "'''    \n",
    "for text in data.text:\n",
    "\n",
    "    tokens = tokenizer.tokenize(text)\n",
    "    docs.append([w2i[w.lower()] for w in tokens])"
   ]
  },
  {
   "cell_type": "code",
   "execution_count": 26,
   "metadata": {
    "collapsed": true
   },
   "outputs": [],
   "source": [
    "dim = len(w2i)\n",
    "max_len = 10"
   ]
  },
  {
   "cell_type": "code",
   "execution_count": 27,
   "metadata": {},
   "outputs": [],
   "source": [
    "from keras import preprocessing\n",
    "\n",
    "x = preprocessing.sequence.pad_sequences(docs, maxlen=max_len)"
   ]
  },
  {
   "cell_type": "code",
   "execution_count": 28,
   "metadata": {
    "collapsed": true
   },
   "outputs": [],
   "source": [
    "import numpy as np\n",
    "\n",
    "y = np.asarray(data.gender.values).astype('float32')"
   ]
  },
  {
   "cell_type": "code",
   "execution_count": 29,
   "metadata": {
    "collapsed": true
   },
   "outputs": [],
   "source": [
    "# train test split\n",
    "from sklearn.model_selection import train_test_split\n",
    "\n",
    "x_train, x_test, y_train, y_test = train_test_split(x, y, test_size = 0.1, random_state = 0)"
   ]
  },
  {
   "cell_type": "code",
   "execution_count": 30,
   "metadata": {},
   "outputs": [
    {
     "name": "stdout",
     "output_type": "stream",
     "text": [
      "_________________________________________________________________\n",
      "Layer (type)                 Output Shape              Param #   \n",
      "=================================================================\n",
      "embedding_5 (Embedding)      (None, 10, 128)           2928256   \n",
      "_________________________________________________________________\n",
      "bidirectional_5 (Bidirection (None, 256)               263168    \n",
      "_________________________________________________________________\n",
      "dense_9 (Dense)              (None, 4)                 1028      \n",
      "_________________________________________________________________\n",
      "dropout_5 (Dropout)          (None, 4)                 0         \n",
      "_________________________________________________________________\n",
      "dense_10 (Dense)             (None, 1)                 5         \n",
      "=================================================================\n",
      "Total params: 3,192,457\n",
      "Trainable params: 3,192,457\n",
      "Non-trainable params: 0\n",
      "_________________________________________________________________\n"
     ]
    }
   ],
   "source": [
    "from keras import models\n",
    "from keras import layers\n",
    "from keras import optimizers\n",
    "from keras import metrics\n",
    "from keras import losses\n",
    "from keras import regularizers\n",
    "from keras.layers import Flatten, Dense, Embedding, LSTM, GRU, Bidirectional\n",
    "\n",
    "model = models.Sequential()\n",
    "model.add(Embedding(dim, 128, input_length=max_len))\n",
    "#model.add(LSTM(32))\n",
    "#model.add(GRU(32,dropout=0.2,recurrent_dropout=0.2))\n",
    "model.add(Bidirectional(LSTM(128)))\n",
    "model.add(layers.Dense(4, activation='relu'))\n",
    "model.add(layers.Dropout(0.5))\n",
    "model.add(Dense(1, activation='sigmoid'))\n",
    "\n",
    "model.compile(optimizer='rmsprop',\n",
    "              loss='binary_crossentropy',\n",
    "              metrics=['acc'])\n",
    "\n",
    "model.summary()"
   ]
  },
  {
   "cell_type": "code",
   "execution_count": null,
   "metadata": {
    "scrolled": true
   },
   "outputs": [
    {
     "name": "stdout",
     "output_type": "stream",
     "text": [
      "Train on 8059 samples, validate on 2015 samples\n",
      "Epoch 1/30\n",
      "8059/8059 [==============================] - 5s 601us/step - loss: 0.6914 - acc: 0.5131 - val_loss: 0.6857 - val_acc: 0.5712\n",
      "Epoch 2/30\n",
      "8059/8059 [==============================] - 4s 526us/step - loss: 0.6702 - acc: 0.5807 - val_loss: 0.6732 - val_acc: 0.5806\n",
      "Epoch 3/30\n",
      "8059/8059 [==============================] - 4s 532us/step - loss: 0.6225 - acc: 0.6585 - val_loss: 0.6724 - val_acc: 0.5846\n",
      "Epoch 4/30\n",
      "8059/8059 [==============================] - 4s 522us/step - loss: 0.5658 - acc: 0.7134 - val_loss: 0.7012 - val_acc: 0.5757\n",
      "Epoch 5/30\n",
      "8059/8059 [==============================] - 4s 486us/step - loss: 0.5103 - acc: 0.7466 - val_loss: 0.7418 - val_acc: 0.5772\n",
      "Epoch 6/30\n",
      "8059/8059 [==============================] - 4s 516us/step - loss: 0.4623 - acc: 0.7711 - val_loss: 0.7402 - val_acc: 0.5697\n",
      "Epoch 7/30\n",
      "8059/8059 [==============================] - 4s 501us/step - loss: 0.4471 - acc: 0.7841 - val_loss: 0.7769 - val_acc: 0.5806\n",
      "Epoch 8/30\n",
      "8059/8059 [==============================] - 4s 505us/step - loss: 0.3914 - acc: 0.8422 - val_loss: 0.8451 - val_acc: 0.5643\n",
      "Epoch 9/30\n",
      "8059/8059 [==============================] - 4s 505us/step - loss: 0.3667 - acc: 0.8577 - val_loss: 0.8346 - val_acc: 0.5558\n",
      "Epoch 10/30\n",
      "8059/8059 [==============================] - 4s 494us/step - loss: 0.3397 - acc: 0.8690 - val_loss: 0.9454 - val_acc: 0.5578\n",
      "Epoch 11/30\n",
      "8059/8059 [==============================] - 4s 501us/step - loss: 0.3229 - acc: 0.8747 - val_loss: 1.0752 - val_acc: 0.5563\n",
      "Epoch 12/30\n",
      "8059/8059 [==============================] - 4s 515us/step - loss: 0.3028 - acc: 0.8852 - val_loss: 1.0069 - val_acc: 0.5613\n",
      "Epoch 13/30\n",
      "8059/8059 [==============================] - 4s 536us/step - loss: 0.2920 - acc: 0.8877 - val_loss: 1.1111 - val_acc: 0.5538\n",
      "Epoch 14/30\n",
      "8059/8059 [==============================] - 4s 514us/step - loss: 0.2656 - acc: 0.9015 - val_loss: 1.0708 - val_acc: 0.5459\n",
      "Epoch 15/30\n",
      "8059/8059 [==============================] - 4s 501us/step - loss: 0.2650 - acc: 0.9009 - val_loss: 1.1256 - val_acc: 0.5469\n",
      "Epoch 16/30\n",
      "8059/8059 [==============================] - 4s 512us/step - loss: 0.2479 - acc: 0.9078 - val_loss: 1.1876 - val_acc: 0.5533\n",
      "Epoch 17/30\n",
      "8059/8059 [==============================] - 4s 525us/step - loss: 0.2449 - acc: 0.9052 - val_loss: 1.1280 - val_acc: 0.5489\n",
      "Epoch 18/30\n",
      "8059/8059 [==============================] - 4s 517us/step - loss: 0.2264 - acc: 0.9156 - val_loss: 1.4753 - val_acc: 0.5459\n",
      "Epoch 19/30\n",
      "8059/8059 [==============================] - 4s 505us/step - loss: 0.2304 - acc: 0.9089 - val_loss: 1.2739 - val_acc: 0.5395\n",
      "Epoch 20/30\n",
      "8059/8059 [==============================] - 4s 540us/step - loss: 0.2187 - acc: 0.9154 - val_loss: 1.6002 - val_acc: 0.5464\n",
      "Epoch 21/30\n",
      "8059/8059 [==============================] - 4s 548us/step - loss: 0.2266 - acc: 0.9130 - val_loss: 1.4842 - val_acc: 0.5548\n",
      "Epoch 22/30\n",
      "8059/8059 [==============================] - 4s 543us/step - loss: 0.2163 - acc: 0.9140 - val_loss: 1.3344 - val_acc: 0.5360\n",
      "Epoch 23/30\n",
      "8059/8059 [==============================] - 4s 524us/step - loss: 0.2076 - acc: 0.9196 - val_loss: 1.9536 - val_acc: 0.5519\n",
      "Epoch 24/30\n",
      "8059/8059 [==============================] - 4s 503us/step - loss: 0.2068 - acc: 0.9196 - val_loss: 1.4490 - val_acc: 0.5300\n",
      "Epoch 25/30\n",
      "8059/8059 [==============================] - 4s 505us/step - loss: 0.2056 - acc: 0.9205 - val_loss: 1.4879 - val_acc: 0.5360\n",
      "Epoch 26/30\n",
      "8059/8059 [==============================] - 4s 524us/step - loss: 0.1868 - acc: 0.9283 - val_loss: 1.5910 - val_acc: 0.5409\n",
      "Epoch 27/30\n",
      "8059/8059 [==============================] - 4s 540us/step - loss: 0.2038 - acc: 0.9201 - val_loss: 1.5617 - val_acc: 0.5335\n",
      "Epoch 28/30\n",
      "2900/8059 [=========>....................] - ETA: 2s - loss: 0.1840 - acc: 0.9300"
     ]
    }
   ],
   "source": [
    "history = model.fit(x_train,\n",
    "                    y_train,\n",
    "                    epochs=30,\n",
    "                    batch_size=100,\n",
    "                    validation_split=0.2)"
   ]
  },
  {
   "cell_type": "code",
   "execution_count": 20,
   "metadata": {},
   "outputs": [
    {
     "data": {
      "text/plain": [
       "dict_keys(['val_loss', 'val_acc', 'loss', 'acc'])"
      ]
     },
     "execution_count": 20,
     "metadata": {},
     "output_type": "execute_result"
    }
   ],
   "source": [
    "history_dict = history.history\n",
    "history_dict.keys()"
   ]
  },
  {
   "cell_type": "code",
   "execution_count": 21,
   "metadata": {},
   "outputs": [
    {
     "data": {
      "image/png": "[encoded data removed]",
      "text/plain": [
       "<matplotlib.figure.Figure at 0x7f99943da8d0>"
      ]
     },
     "metadata": {},
     "output_type": "display_data"
    }
   ],
   "source": [
    "import matplotlib.pyplot as plt\n",
    "\n",
    "history_dict = history.history\n",
    "loss_values = history_dict['loss']\n",
    "val_loss_values = history_dict['val_loss']\n",
    "\n",
    "epochs = range(1, len(loss_values) + 1)\n",
    "\n",
    "plt.plot(epochs, loss_values, 'bo', label='Training loss')\n",
    "plt.plot(epochs, val_loss_values, 'b', label='Validation loss')\n",
    "plt.title('Training and validation loss')\n",
    "plt.xlabel('Epochs')\n",
    "plt.ylabel('Loss')\n",
    "plt.legend()\n",
    "plt.show()"
   ]
  },
  {
   "cell_type": "code",
   "execution_count": 22,
   "metadata": {},
   "outputs": [
    {
     "data": {
      "image/png": "[encoded data removed]",
      "text/plain": [
       "<matplotlib.figure.Figure at 0x7f99943da5c0>"
      ]
     },
     "metadata": {},
     "output_type": "display_data"
    }
   ],
   "source": [
    "plt.clf()\n",
    "\n",
    "acc = history_dict['acc']\n",
    "val_acc = history_dict['val_acc']\n",
    "\n",
    "plt.plot(epochs, acc, 'bo', label='Training acc')\n",
    "plt.plot(epochs, val_acc, 'b', label='Validation acc')\n",
    "plt.xlabel('Epochs')\n",
    "plt.ylabel('Accuracy')\n",
    "plt.legend()\n",
    "plt.show()"
   ]
  },
  {
   "cell_type": "code",
   "execution_count": 23,
   "metadata": {},
   "outputs": [
    {
     "name": "stdout",
     "output_type": "stream",
     "text": [
      "1120/1120 [==============================] - 0s 382us/step\n"
     ]
    }
   ],
   "source": [
    "results = model.evaluate(x_test, y_test)"
   ]
  },
  {
   "cell_type": "code",
   "execution_count": 24,
   "metadata": {},
   "outputs": [
    {
     "data": {
      "text/plain": [
       "[1.835210861478533, 0.61785714285714288]"
      ]
     },
     "execution_count": 24,
     "metadata": {},
     "output_type": "execute_result"
    }
   ],
   "source": [
    "results"
   ]
  },
  {
   "cell_type": "code",
   "execution_count": null,
   "metadata": {
    "collapsed": true
   },
   "outputs": [],
   "source": []
  }
 ],
 "metadata": {
  "kernelspec": {
   "display_name": "Python 3",
   "language": "python",
   "name": "python3"
  },
  "language_info": {
   "codemirror_mode": {
    "name": "ipython",
    "version": 3
   },
   "file_extension": ".py",
   "mimetype": "text/x-python",
   "name": "python",
   "nbconvert_exporter": "python",
   "pygments_lexer": "ipython3",
   "version": "3.6.3"
  }
 },
 "nbformat": 4,
 "nbformat_minor": 2
}
