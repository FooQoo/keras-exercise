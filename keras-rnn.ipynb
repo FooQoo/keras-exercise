{
 "cells": [
  {
   "cell_type": "code",
   "execution_count": 1,
   "metadata": {
    "collapsed": true
   },
   "outputs": [],
   "source": [
    "import numpy as np\n",
    "import pandas as pd\n",
    "\n",
    "# データの取り込み\n",
    "\n",
    "# import data\n",
    "data = pd.read_csv(r\"./gender-classifier-DFE-791531.csv\",encoding='latin1')\n",
    "\n",
    "# concat gender and description\n",
    "data = pd.concat([data.gender,data.description],axis=1)\n",
    "\n",
    "#drop nan values inplace\n",
    "data.dropna(inplace=True,axis=0)\n",
    "data = data.reset_index(drop=True)"
   ]
  },
  {
   "cell_type": "code",
   "execution_count": 2,
   "metadata": {
    "collapsed": true
   },
   "outputs": [],
   "source": [
    "import re\n",
    "\n",
    "def remove_urls(text):\n",
    "    \n",
    "    urls = [g[0] for g in re.findall(r'((https?|ftp)(:\\/\\/[-_\\.!~*\\'()a-zA-Z0-9;\\/?:\\@&=\\+\\$,%#]+))', text)]\n",
    "    \n",
    "    for url in sorted(urls,key=lambda x:-len(x)):\n",
    "    \n",
    "        text = text.replace(url,'')\n",
    "        \n",
    "    return text"
   ]
  },
  {
   "cell_type": "code",
   "execution_count": 3,
   "metadata": {
    "collapsed": true
   },
   "outputs": [],
   "source": [
    "data.gender.loc[data.gender == 'male']   = 0\n",
    "data.gender.loc[data.gender == 'female'] = 1\n",
    "data.gender.loc[~(data.gender == 0) & ~(data.gender == 1)] = np.nan\n",
    "\n",
    "data.description = data.description.map(remove_urls)\n",
    "\n",
    "data.dropna(inplace=True,axis=0)\n",
    "data = data.reset_index(drop=True)\n",
    "data.gender = data.gender.astype(int)"
   ]
  },
  {
   "cell_type": "code",
   "execution_count": 4,
   "metadata": {
    "collapsed": true
   },
   "outputs": [],
   "source": [
    "# preprocessing\n",
    "from nltk.tokenize import RegexpTokenizer\n",
    "from nltk.corpus import stopwords \n",
    "from collections import defaultdict,Counter\n",
    "\n",
    "docs = []\n",
    "\n",
    "w2i  = defaultdict(lambda : len(w2i))\n",
    "\n",
    "mystopwords = stopwords.words('english') + [\"i'm\",\"rt\"]\n",
    "\n",
    "tokenizer = RegexpTokenizer(\"(?u)(?=[a-zA-Z])\\\\b[\\w']{2,}\\\\b\")\n",
    "\n",
    "for text in data.description:\n",
    "\n",
    "    tokens = tokenizer.tokenize(text)\n",
    "    docs.append([w2i[w.lower()] for w in tokens if w.lower() not in mystopwords])"
   ]
  },
  {
   "cell_type": "code",
   "execution_count": 5,
   "metadata": {
    "collapsed": true
   },
   "outputs": [],
   "source": [
    "dim = len(w2i)\n",
    "max_len = 20"
   ]
  },
  {
   "cell_type": "code",
   "execution_count": 6,
   "metadata": {},
   "outputs": [
    {
     "name": "stderr",
     "output_type": "stream",
     "text": [
      "Using TensorFlow backend.\n",
      "/home/fukuyama/.pyenv/versions/anaconda3-5.0.1/lib/python3.6/importlib/_bootstrap.py:219: RuntimeWarning: compiletime version 3.5 of module 'tensorflow.python.framework.fast_tensor_util' does not match runtime version 3.6\n",
      "  return f(*args, **kwds)\n"
     ]
    }
   ],
   "source": [
    "from keras import preprocessing\n",
    "\n",
    "x = preprocessing.sequence.pad_sequences(docs, maxlen=max_len)"
   ]
  },
  {
   "cell_type": "code",
   "execution_count": 7,
   "metadata": {
    "collapsed": true
   },
   "outputs": [],
   "source": [
    "import numpy as np\n",
    "\n",
    "y = np.asarray(data.gender.values).astype('float32')"
   ]
  },
  {
   "cell_type": "code",
   "execution_count": 8,
   "metadata": {
    "collapsed": true
   },
   "outputs": [],
   "source": [
    "# train test split\n",
    "from sklearn.model_selection import train_test_split\n",
    "\n",
    "x_train, x_test, y_train, y_test = train_test_split(x, y, test_size = 0.1, random_state = 0)"
   ]
  },
  {
   "cell_type": "code",
   "execution_count": 12,
   "metadata": {},
   "outputs": [
    {
     "name": "stdout",
     "output_type": "stream",
     "text": [
      "_________________________________________________________________\n",
      "Layer (type)                 Output Shape              Param #   \n",
      "=================================================================\n",
      "embedding_4 (Embedding)      (None, 20, 8)             188904    \n",
      "_________________________________________________________________\n",
      "simple_rnn_3 (SimpleRNN)     (None, 8)                 136       \n",
      "_________________________________________________________________\n",
      "dense_1 (Dense)              (None, 1)                 9         \n",
      "=================================================================\n",
      "Total params: 189,049\n",
      "Trainable params: 189,049\n",
      "Non-trainable params: 0\n",
      "_________________________________________________________________\n"
     ]
    }
   ],
   "source": [
    "from keras import models\n",
    "from keras import layers\n",
    "from keras import optimizers\n",
    "from keras import metrics\n",
    "from keras import losses\n",
    "from keras import regularizers\n",
    "from keras.layers import Flatten, Dense, Embedding, SimpleRNN\n",
    "\n",
    "model = models.Sequential()\n",
    "model.add(Embedding(dim, 8, input_length=max_len))\n",
    "model.add(SimpleRNN(8))\n",
    "model.add(Dense(1, activation='sigmoid'))\n",
    "\n",
    "model.compile(optimizer='rmsprop',\n",
    "              loss='binary_crossentropy',\n",
    "              metrics=['acc'])\n",
    "\n",
    "model.summary()"
   ]
  },
  {
   "cell_type": "code",
   "execution_count": 13,
   "metadata": {
    "scrolled": true
   },
   "outputs": [
    {
     "name": "stdout",
     "output_type": "stream",
     "text": [
      "Train on 8059 samples, validate on 2015 samples\n",
      "Epoch 1/10\n",
      "8059/8059 [==============================] - 6s 685us/step - loss: 0.6860 - acc: 0.5504 - val_loss: 0.6791 - val_acc: 0.5653\n",
      "Epoch 2/10\n",
      "8059/8059 [==============================] - 3s 421us/step - loss: 0.6281 - acc: 0.6706 - val_loss: 0.6548 - val_acc: 0.6079\n",
      "Epoch 3/10\n",
      "8059/8059 [==============================] - 3s 433us/step - loss: 0.5151 - acc: 0.7649 - val_loss: 0.6805 - val_acc: 0.5816\n",
      "Epoch 4/10\n",
      "8059/8059 [==============================] - 3s 419us/step - loss: 0.4139 - acc: 0.8196 - val_loss: 0.7063 - val_acc: 0.6104\n",
      "Epoch 5/10\n",
      "8059/8059 [==============================] - 4s 443us/step - loss: 0.3296 - acc: 0.8631 - val_loss: 0.7504 - val_acc: 0.6094\n",
      "Epoch 6/10\n",
      "8059/8059 [==============================] - 4s 437us/step - loss: 0.2634 - acc: 0.8929 - val_loss: 0.8085 - val_acc: 0.6065\n",
      "Epoch 7/10\n",
      "8059/8059 [==============================] - 3s 432us/step - loss: 0.2161 - acc: 0.9159 - val_loss: 0.8636 - val_acc: 0.5995\n",
      "Epoch 8/10\n",
      "8059/8059 [==============================] - 3s 426us/step - loss: 0.1798 - acc: 0.9299 - val_loss: 0.9223 - val_acc: 0.6015\n",
      "Epoch 9/10\n",
      "8059/8059 [==============================] - 3s 413us/step - loss: 0.1523 - acc: 0.9407 - val_loss: 0.9803 - val_acc: 0.6035\n",
      "Epoch 10/10\n",
      "8059/8059 [==============================] - 3s 429us/step - loss: 0.1300 - acc: 0.9514 - val_loss: 1.0300 - val_acc: 0.5891\n"
     ]
    }
   ],
   "source": [
    "history = model.fit(x_train,\n",
    "                    y_train,\n",
    "                    epochs=10,\n",
    "                    batch_size=32,\n",
    "                    validation_split=0.2)"
   ]
  },
  {
   "cell_type": "code",
   "execution_count": 14,
   "metadata": {},
   "outputs": [
    {
     "data": {
      "text/plain": [
       "dict_keys(['val_loss', 'val_acc', 'loss', 'acc'])"
      ]
     },
     "execution_count": 14,
     "metadata": {},
     "output_type": "execute_result"
    }
   ],
   "source": [
    "history_dict = history.history\n",
    "history_dict.keys()"
   ]
  },
  {
   "cell_type": "code",
   "execution_count": 15,
   "metadata": {},
   "outputs": [
    {
     "data": {
      "image/png": "[encoded data removed]",
      "text/plain": [
       "<matplotlib.figure.Figure at 0x7f3dd808e278>"
      ]
     },
     "metadata": {},
     "output_type": "display_data"
    }
   ],
   "source": [
    "import matplotlib.pyplot as plt\n",
    "\n",
    "history_dict = history.history\n",
    "loss_values = history_dict['loss']\n",
    "val_loss_values = history_dict['val_loss']\n",
    "\n",
    "epochs = range(1, len(loss_values) + 1)\n",
    "\n",
    "plt.plot(epochs, loss_values, 'bo', label='Training loss')\n",
    "plt.plot(epochs, val_loss_values, 'b', label='Validation loss')\n",
    "plt.title('Training and validation loss')\n",
    "plt.xlabel('Epochs')\n",
    "plt.ylabel('Loss')\n",
    "plt.legend()\n",
    "plt.show()"
   ]
  },
  {
   "cell_type": "code",
   "execution_count": 16,
   "metadata": {},
   "outputs": [
    {
     "data": {
      "image/png": "[encoded data removed]",
      "text/plain": [
       "<matplotlib.figure.Figure at 0x7f3dd808e0b8>"
      ]
     },
     "metadata": {},
     "output_type": "display_data"
    }
   ],
   "source": [
    "plt.clf()\n",
    "\n",
    "acc = history_dict['acc']\n",
    "val_acc = history_dict['val_acc']\n",
    "\n",
    "plt.plot(epochs, acc, 'bo', label='Training acc')\n",
    "plt.plot(epochs, val_acc, 'b', label='Validation acc')\n",
    "plt.xlabel('Epochs')\n",
    "plt.ylabel('Accuracy')\n",
    "plt.legend()\n",
    "plt.show()"
   ]
  },
  {
   "cell_type": "code",
   "execution_count": 17,
   "metadata": {},
   "outputs": [
    {
     "name": "stdout",
     "output_type": "stream",
     "text": [
      "1120/1120 [==============================] - 0s 145us/step\n"
     ]
    }
   ],
   "source": [
    "results = model.evaluate(x_test, y_test)"
   ]
  },
  {
   "cell_type": "code",
   "execution_count": 19,
   "metadata": {},
   "outputs": [
    {
     "data": {
      "text/plain": [
       "[0.96009658489908489, 0.61428571428571432]"
      ]
     },
     "execution_count": 19,
     "metadata": {},
     "output_type": "execute_result"
    }
   ],
   "source": [
    "results"
   ]
  },
  {
   "cell_type": "code",
   "execution_count": null,
   "metadata": {
    "collapsed": true
   },
   "outputs": [],
   "source": []
  }
 ],
 "metadata": {
  "kernelspec": {
   "display_name": "Python 3",
   "language": "python",
   "name": "python3"
  },
  "language_info": {
   "codemirror_mode": {
    "name": "ipython",
    "version": 3
   },
   "file_extension": ".py",
   "mimetype": "text/x-python",
   "name": "python",
   "nbconvert_exporter": "python",
   "pygments_lexer": "ipython3",
   "version": "3.6.3"
  }
 },
 "nbformat": 4,
 "nbformat_minor": 2
}
