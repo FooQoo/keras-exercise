{
 "cells": [
  {
   "cell_type": "code",
   "execution_count": 1,
   "metadata": {},
   "outputs": [],
   "source": [
    "import numpy as np\n",
    "import pandas as pd\n",
    "\n",
    "# データの取り込み\n",
    "\n",
    "# import data\n",
    "data = pd.read_csv(r\"./gender-classifier-DFE-791531.csv\",encoding='latin1')\n",
    "\n",
    "# concat gender and description\n",
    "data = pd.concat([data.gender,data.description],axis=1)\n",
    "\n",
    "#drop nan values inplace\n",
    "data.dropna(inplace=True,axis=0)\n",
    "data = data.reset_index(drop=True)"
   ]
  },
  {
   "cell_type": "code",
   "execution_count": 2,
   "metadata": {
    "collapsed": true
   },
   "outputs": [],
   "source": [
    "import re\n",
    "\n",
    "def remove_urls(text):\n",
    "    \n",
    "    urls = [g[0] for g in re.findall(r'((https?|ftp)(:\\/\\/[-_\\.!~*\\'()a-zA-Z0-9;\\/?:\\@&=\\+\\$,%#]+))', text)]\n",
    "    \n",
    "    for url in sorted(urls,key=lambda x:-len(x)):\n",
    "    \n",
    "        text = text.replace(url,'')\n",
    "        \n",
    "    return text"
   ]
  },
  {
   "cell_type": "code",
   "execution_count": 3,
   "metadata": {
    "collapsed": true
   },
   "outputs": [],
   "source": [
    "data.gender.loc[data.gender == 'male']   = 0\n",
    "data.gender.loc[data.gender == 'female'] = 1\n",
    "data.gender.loc[~(data.gender == 0) & ~(data.gender == 1)] = np.nan\n",
    "\n",
    "data.description = data.description.map(remove_urls)\n",
    "\n",
    "data.dropna(inplace=True,axis=0)\n",
    "data = data.reset_index(drop=True)\n",
    "data.gender = data.gender.astype(int)"
   ]
  },
  {
   "cell_type": "code",
   "execution_count": 4,
   "metadata": {
    "collapsed": true
   },
   "outputs": [],
   "source": [
    "# preprocessing\n",
    "from nltk.tokenize import RegexpTokenizer\n",
    "from nltk.corpus import stopwords \n",
    "from collections import defaultdict,Counter\n",
    "\n",
    "docs = []\n",
    "\n",
    "w2i  = defaultdict(lambda : len(w2i))\n",
    "\n",
    "mystopwords = stopwords.words('english') + [\"i'm\",\"rt\"]\n",
    "\n",
    "tokenizer = RegexpTokenizer(\"(?u)(?=[a-zA-Z])\\\\b[\\w']{2,}\\\\b\")\n",
    "\n",
    "for text in data.description:\n",
    "\n",
    "    tokens = tokenizer.tokenize(text)\n",
    "    docs.append([w2i[w.lower()] for w in tokens if w.lower() not in mystopwords])"
   ]
  },
  {
   "cell_type": "code",
   "execution_count": 13,
   "metadata": {},
   "outputs": [],
   "source": [
    "dim = len(w2i)"
   ]
  },
  {
   "cell_type": "code",
   "execution_count": 18,
   "metadata": {},
   "outputs": [],
   "source": [
    "import numpy as np\n",
    "\n",
    "def vectorize_sequences(sequences, dimension=10000):\n",
    "    \n",
    "    results = np.zeros((len(sequences), dimension))\n",
    "    \n",
    "    for i,sequences in enumerate(sequences):\n",
    "        results[i, sequences] = 1.\n",
    "    return results\n",
    "\n",
    "x = vectorize_sequences(docs,dim)\n",
    "y = np.asarray(data.gender.values).astype('float32')"
   ]
  },
  {
   "cell_type": "code",
   "execution_count": 20,
   "metadata": {
    "collapsed": true
   },
   "outputs": [],
   "source": [
    "# train test split\n",
    "from sklearn.model_selection import train_test_split\n",
    "\n",
    "x_train, x_test, y_train, y_test = train_test_split(x, y, test_size = 0.1, random_state = 0)"
   ]
  },
  {
   "cell_type": "code",
   "execution_count": 22,
   "metadata": {
    "collapsed": true
   },
   "outputs": [],
   "source": [
    "x_val = x_train[:1000]\n",
    "partial_x_train = x_train[1000:]\n",
    "\n",
    "y_val = y_train[:1000]\n",
    "partial_y_train = y_train[1000:]"
   ]
  },
  {
   "cell_type": "code",
   "execution_count": 46,
   "metadata": {},
   "outputs": [],
   "source": [
    "from keras import models\n",
    "from keras import layers\n",
    "from keras import optimizers\n",
    "from keras import metrics\n",
    "from keras import losses\n",
    "from keras import regularizers\n",
    "\n",
    "model = models.Sequential()\n",
    "model.add(layers.Dense(16, kernel_regularizer=regularizers.l2(0.001),\n",
    "                       activation='relu', input_shape=(dim,)))\n",
    "model.add(layers.Dense(16, kernel_regularizer=regularizers.l2(0.001),\n",
    "                       activation='relu'))\n",
    "model.add(layers.Dense(1, activation='sigmoid'))\n",
    "\n",
    "model.compile(optimizer='rmsprop',\n",
    "              loss='binary_crossentropy',\n",
    "              metrics=['acc'])"
   ]
  },
  {
   "cell_type": "code",
   "execution_count": 60,
   "metadata": {
    "collapsed": true
   },
   "outputs": [],
   "source": [
    "model = models.Sequential()\n",
    "model.add(layers.Dense(4, activation='relu', input_shape=(dim,)))\n",
    "model.add(layers.Dropout(0.5))\n",
    "model.add(layers.Dense(4, activation='relu'))\n",
    "model.add(layers.Dropout(0.5))\n",
    "model.add(layers.Dense(1, activation='sigmoid'))\n",
    "\n",
    "model.compile(optimizer='rmsprop',\n",
    "              loss='binary_crossentropy',\n",
    "              metrics=['acc'])"
   ]
  },
  {
   "cell_type": "code",
   "execution_count": 61,
   "metadata": {
    "scrolled": true
   },
   "outputs": [
    {
     "name": "stdout",
     "output_type": "stream",
     "text": [
      "Train on 9074 samples, validate on 1000 samples\n",
      "Epoch 1/20\n",
      "9074/9074 [==============================] - 3s 354us/step - loss: 0.6932 - acc: 0.5040 - val_loss: 0.6933 - val_acc: 0.4840\n",
      "Epoch 2/20\n",
      "9074/9074 [==============================] - 3s 346us/step - loss: 0.6929 - acc: 0.5122 - val_loss: 0.6933 - val_acc: 0.4840\n",
      "Epoch 3/20\n",
      "9074/9074 [==============================] - 3s 364us/step - loss: 0.6926 - acc: 0.5141 - val_loss: 0.6932 - val_acc: 0.4840\n",
      "Epoch 4/20\n",
      "9074/9074 [==============================] - 3s 373us/step - loss: 0.6921 - acc: 0.5132 - val_loss: 0.6931 - val_acc: 0.4840\n",
      "Epoch 5/20\n",
      "9074/9074 [==============================] - 3s 374us/step - loss: 0.6913 - acc: 0.5134 - val_loss: 0.6928 - val_acc: 0.4840\n",
      "Epoch 6/20\n",
      "9074/9074 [==============================] - 3s 373us/step - loss: 0.6904 - acc: 0.5125 - val_loss: 0.6924 - val_acc: 0.4840\n",
      "Epoch 7/20\n",
      "9074/9074 [==============================] - 3s 384us/step - loss: 0.6899 - acc: 0.5122 - val_loss: 0.6919 - val_acc: 0.4840\n",
      "Epoch 8/20\n",
      "9074/9074 [==============================] - 3s 320us/step - loss: 0.6884 - acc: 0.5128 - val_loss: 0.6914 - val_acc: 0.4840\n",
      "Epoch 9/20\n",
      "9074/9074 [==============================] - 3s 321us/step - loss: 0.6876 - acc: 0.5123 - val_loss: 0.6908 - val_acc: 0.4840\n",
      "Epoch 10/20\n",
      "9074/9074 [==============================] - 3s 324us/step - loss: 0.6858 - acc: 0.5123 - val_loss: 0.6898 - val_acc: 0.4840\n",
      "Epoch 11/20\n",
      "9074/9074 [==============================] - 3s 386us/step - loss: 0.6828 - acc: 0.5125 - val_loss: 0.6889 - val_acc: 0.4840\n",
      "Epoch 12/20\n",
      "9074/9074 [==============================] - 3s 347us/step - loss: 0.6818 - acc: 0.5123 - val_loss: 0.6879 - val_acc: 0.4840\n",
      "Epoch 13/20\n",
      "9074/9074 [==============================] - 3s 347us/step - loss: 0.6799 - acc: 0.5122 - val_loss: 0.6868 - val_acc: 0.4840\n",
      "Epoch 14/20\n",
      "9074/9074 [==============================] - 3s 355us/step - loss: 0.6787 - acc: 0.5367 - val_loss: 0.6858 - val_acc: 0.5530\n",
      "Epoch 15/20\n",
      "9074/9074 [==============================] - 3s 347us/step - loss: 0.6766 - acc: 0.5555 - val_loss: 0.6846 - val_acc: 0.5700\n",
      "Epoch 16/20\n",
      "9074/9074 [==============================] - 3s 345us/step - loss: 0.6746 - acc: 0.5628 - val_loss: 0.6834 - val_acc: 0.5730\n",
      "Epoch 17/20\n",
      "9074/9074 [==============================] - 3s 341us/step - loss: 0.6721 - acc: 0.5738 - val_loss: 0.6822 - val_acc: 0.5890\n",
      "Epoch 18/20\n",
      "9074/9074 [==============================] - 3s 291us/step - loss: 0.6697 - acc: 0.5770 - val_loss: 0.6807 - val_acc: 0.6000\n",
      "Epoch 19/20\n",
      "9074/9074 [==============================] - 3s 320us/step - loss: 0.6692 - acc: 0.5743 - val_loss: 0.6795 - val_acc: 0.6060\n",
      "Epoch 20/20\n",
      "9074/9074 [==============================] - 3s 362us/step - loss: 0.6649 - acc: 0.5803 - val_loss: 0.6782 - val_acc: 0.6230\n"
     ]
    }
   ],
   "source": [
    "history = model.fit(partial_x_train,\n",
    "                    partial_y_train,\n",
    "                    epochs=20,\n",
    "                    batch_size=512,\n",
    "                    validation_data=(x_val,y_val))"
   ]
  },
  {
   "cell_type": "code",
   "execution_count": 62,
   "metadata": {},
   "outputs": [
    {
     "data": {
      "text/plain": [
       "dict_keys(['val_loss', 'val_acc', 'loss', 'acc'])"
      ]
     },
     "execution_count": 62,
     "metadata": {},
     "output_type": "execute_result"
    }
   ],
   "source": [
    "history_dict = history.history\n",
    "history_dict.keys()"
   ]
  },
  {
   "cell_type": "code",
   "execution_count": 63,
   "metadata": {},
   "outputs": [
    {
     "data": {
      "image/png": "[encoded data removed]",
      "text/plain": [
       "<matplotlib.figure.Figure at 0x7f394c1f8b00>"
      ]
     },
     "metadata": {},
     "output_type": "display_data"
    }
   ],
   "source": [
    "import matplotlib.pyplot as plt\n",
    "\n",
    "history_dict = history.history\n",
    "loss_values = history_dict['loss']\n",
    "val_loss_values = history_dict['val_loss']\n",
    "\n",
    "epochs = range(1, len(loss_values) + 1)\n",
    "\n",
    "plt.plot(epochs, loss_values, 'bo', label='Training loss')\n",
    "plt.plot(epochs, val_loss_values, 'b', label='Validation loss')\n",
    "plt.title('Training and validation loss')\n",
    "plt.xlabel('Epochs')\n",
    "plt.ylabel('Loss')\n",
    "plt.legend()\n",
    "plt.show()"
   ]
  },
  {
   "cell_type": "code",
   "execution_count": 64,
   "metadata": {},
   "outputs": [
    {
     "data": {
      "image/png": "[encoded data removed]",
      "text/plain": [
       "<matplotlib.figure.Figure at 0x7f394c1f87f0>"
      ]
     },
     "metadata": {},
     "output_type": "display_data"
    }
   ],
   "source": [
    "plt.clf()\n",
    "\n",
    "acc = history_dict['acc']\n",
    "val_acc = history_dict['val_acc']\n",
    "\n",
    "plt.plot(epochs, acc, 'bo', label='Training acc')\n",
    "plt.plot(epochs, val_acc, 'b', label='Validation acc')\n",
    "plt.xlabel('Epochs')\n",
    "plt.ylabel('Accuracy')\n",
    "plt.legend()\n",
    "plt.show()"
   ]
  },
  {
   "cell_type": "code",
   "execution_count": 65,
   "metadata": {},
   "outputs": [
    {
     "name": "stdout",
     "output_type": "stream",
     "text": [
      "1120/1120 [==============================] - 0s 204us/step\n"
     ]
    }
   ],
   "source": [
    "results = model.evaluate(x_test, y_test)"
   ]
  },
  {
   "cell_type": "code",
   "execution_count": 66,
   "metadata": {},
   "outputs": [
    {
     "data": {
      "text/plain": [
       "[0.67419993707111903, 0.62857142857142856]"
      ]
     },
     "execution_count": 66,
     "metadata": {},
     "output_type": "execute_result"
    }
   ],
   "source": [
    "results"
   ]
  },
  {
   "cell_type": "code",
   "execution_count": null,
   "metadata": {
    "collapsed": true
   },
   "outputs": [],
   "source": []
  }
 ],
 "metadata": {
  "kernelspec": {
   "display_name": "Python 3",
   "language": "python",
   "name": "python3"
  },
  "language_info": {
   "codemirror_mode": {
    "name": "ipython",
    "version": 3
   },
   "file_extension": ".py",
   "mimetype": "text/x-python",
   "name": "python",
   "nbconvert_exporter": "python",
   "pygments_lexer": "ipython3",
   "version": "3.6.3"
  }
 },
 "nbformat": 4,
 "nbformat_minor": 2
}
